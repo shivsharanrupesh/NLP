{
 "cells": [
  {
   "cell_type": "code",
   "execution_count": 1,
   "id": "c27ee5dc",
   "metadata": {},
   "outputs": [],
   "source": [
    "paragraph = \"\"\"\n",
    "Narendra Damodardas Modi (Gujarati: [ˈnəɾendɾə dɑmodəɾˈdɑs ˈmodiː] ⓘ; born 17 September 1950)[b] is an Indian politician who has served as the 14th prime minister of India since May 2014. Modi was the chief minister of Gujarat from 2001 to 2014 and is the Member of Parliament (MP) for Varanasi. He is a member of the Bharatiya Janata Party (BJP) and of the Rashtriya Swayamsevak Sangh (RSS), a right wing Hindu nationalist paramilitary volunteer organisation. He is the longest-serving prime minister from outside the Indian National Congress.\n",
    "\n",
    "Modi was born and raised in Vadnagar in northeastern Gujarat, where he completed his secondary education. He was introduced to the RSS at the age of eight. His account of helping his father sell tea at the Vadnagar railway station has not been reliably corroborated. At age 18, he was married to Jashodaben Modi, whom he abandoned soon after, only publicly acknowledging her four decades later when legally required to do so. Modi became a full-time worker for the RSS in Gujarat in 1971. The RSS assigned him to the BJP in 1985 and he held several positions within the party hierarchy until 2001, rising to the rank of general secretary.\n",
    "\"\"\""
   ]
  },
  {
   "cell_type": "code",
   "execution_count": 2,
   "id": "284d7a97",
   "metadata": {},
   "outputs": [
    {
     "data": {
      "text/plain": [
       "'\\nNarendra Damodardas Modi (Gujarati: [ˈnəɾendɾə dɑmodəɾˈdɑs ˈmodiː] ⓘ; born 17 September 1950)[b] is an Indian politician who has served as the 14th prime minister of India since May 2014. Modi was the chief minister of Gujarat from 2001 to 2014 and is the Member of Parliament (MP) for Varanasi. He is a member of the Bharatiya Janata Party (BJP) and of the Rashtriya Swayamsevak Sangh (RSS), a right wing Hindu nationalist paramilitary volunteer organisation. He is the longest-serving prime minister from outside the Indian National Congress.\\n\\nModi was born and raised in Vadnagar in northeastern Gujarat, where he completed his secondary education. He was introduced to the RSS at the age of eight. His account of helping his father sell tea at the Vadnagar railway station has not been reliably corroborated. At age 18, he was married to Jashodaben Modi, whom he abandoned soon after, only publicly acknowledging her four decades later when legally required to do so. Modi became a full-time worker for the RSS in Gujarat in 1971. The RSS assigned him to the BJP in 1985 and he held several positions within the party hierarchy until 2001, rising to the rank of general secretary.\\n'"
      ]
     },
     "execution_count": 2,
     "metadata": {},
     "output_type": "execute_result"
    }
   ],
   "source": [
    "paragraph"
   ]
  },
  {
   "cell_type": "code",
   "execution_count": 3,
   "id": "6c2966cc",
   "metadata": {},
   "outputs": [],
   "source": [
    "import nltk \n",
    "from nltk.stem import PorterStemmer\n",
    "from nltk.corpus import stopwords\n",
    "#porterstemmer - used for stemming purpose"
   ]
  },
  {
   "cell_type": "code",
   "execution_count": 5,
   "id": "21f0a4e8",
   "metadata": {},
   "outputs": [],
   "source": [
    "sentences = nltk.sent_tokenize(paragraph)"
   ]
  },
  {
   "cell_type": "code",
   "execution_count": 6,
   "id": "77cbfb01",
   "metadata": {},
   "outputs": [
    {
     "name": "stdout",
     "output_type": "stream",
     "text": [
      "['\\nNarendra Damodardas Modi (Gujarati: [ˈnəɾendɾə dɑmodəɾˈdɑs ˈmodiː] ⓘ; born 17 September 1950)[b] is an Indian politician who has served as the 14th prime minister of India since May 2014.', 'Modi was the chief minister of Gujarat from 2001 to 2014 and is the Member of Parliament (MP) for Varanasi.', 'He is a member of the Bharatiya Janata Party (BJP) and of the Rashtriya Swayamsevak Sangh (RSS), a right wing Hindu nationalist paramilitary volunteer organisation.', 'He is the longest-serving prime minister from outside the Indian National Congress.', 'Modi was born and raised in Vadnagar in northeastern Gujarat, where he completed his secondary education.', 'He was introduced to the RSS at the age of eight.', 'His account of helping his father sell tea at the Vadnagar railway station has not been reliably corroborated.', 'At age 18, he was married to Jashodaben Modi, whom he abandoned soon after, only publicly acknowledging her four decades later when legally required to do so.', 'Modi became a full-time worker for the RSS in Gujarat in 1971.', 'The RSS assigned him to the BJP in 1985 and he held several positions within the party hierarchy until 2001, rising to the rank of general secretary.']\n"
     ]
    }
   ],
   "source": [
    "print(sentences)"
   ]
  },
  {
   "cell_type": "code",
   "execution_count": 7,
   "id": "31338ee0",
   "metadata": {},
   "outputs": [
    {
     "data": {
      "text/plain": [
       "list"
      ]
     },
     "execution_count": 7,
     "metadata": {},
     "output_type": "execute_result"
    }
   ],
   "source": [
    "type(sentences)"
   ]
  },
  {
   "cell_type": "code",
   "execution_count": 9,
   "id": "205d97a5",
   "metadata": {},
   "outputs": [
    {
     "data": {
      "text/plain": [
       "'think'"
      ]
     },
     "execution_count": 9,
     "metadata": {},
     "output_type": "execute_result"
    }
   ],
   "source": [
    "stemmer = PorterStemmer()\n",
    "stemmer.stem('thinking')"
   ]
  },
  {
   "cell_type": "code",
   "execution_count": 10,
   "id": "8456ca8e",
   "metadata": {},
   "outputs": [],
   "source": [
    "#apply lemmatization\n",
    "from nltk.stem import WordNetLemmatizer\n",
    "lemmatizer = WordNetLemmatizer()"
   ]
  },
  {
   "cell_type": "code",
   "execution_count": 11,
   "id": "f73b05df",
   "metadata": {},
   "outputs": [
    {
     "data": {
      "text/plain": [
       "'thinking'"
      ]
     },
     "execution_count": 11,
     "metadata": {},
     "output_type": "execute_result"
    }
   ],
   "source": [
    "lemmatizer.lemmatize('thinking')"
   ]
  },
  {
   "cell_type": "code",
   "execution_count": 12,
   "id": "1a1a4a37",
   "metadata": {},
   "outputs": [
    {
     "data": {
      "text/plain": [
       "10"
      ]
     },
     "execution_count": 12,
     "metadata": {},
     "output_type": "execute_result"
    }
   ],
   "source": [
    "len(sentences)"
   ]
  },
  {
   "cell_type": "code",
   "execution_count": 14,
   "id": "de0d6a78",
   "metadata": {},
   "outputs": [],
   "source": [
    "import re\n",
    "corpus = []\n",
    "for i in range(len(sentences)): \n",
    "    review = re.sub('[^a-zA-Z]',' ', sentences[i])\n",
    "    review.lower()\n",
    "    corpus.append(review)"
   ]
  },
  {
   "cell_type": "code",
   "execution_count": 15,
   "id": "1ac610c3",
   "metadata": {},
   "outputs": [
    {
     "data": {
      "text/plain": [
       "[' Narendra Damodardas Modi  Gujarati    n  end   d mod   d s  modi      born    September       b  is an Indian politician who has served as the   th prime minister of India since May      ',\n",
       " 'Modi was the chief minister of Gujarat from      to      and is the Member of Parliament  MP  for Varanasi ',\n",
       " 'He is a member of the Bharatiya Janata Party  BJP  and of the Rashtriya Swayamsevak Sangh  RSS   a right wing Hindu nationalist paramilitary volunteer organisation ',\n",
       " 'He is the longest serving prime minister from outside the Indian National Congress ',\n",
       " 'Modi was born and raised in Vadnagar in northeastern Gujarat  where he completed his secondary education ',\n",
       " 'He was introduced to the RSS at the age of eight ',\n",
       " 'His account of helping his father sell tea at the Vadnagar railway station has not been reliably corroborated ',\n",
       " 'At age     he was married to Jashodaben Modi  whom he abandoned soon after  only publicly acknowledging her four decades later when legally required to do so ',\n",
       " 'Modi became a full time worker for the RSS in Gujarat in      ',\n",
       " 'The RSS assigned him to the BJP in      and he held several positions within the party hierarchy until       rising to the rank of general secretary ']"
      ]
     },
     "execution_count": 15,
     "metadata": {},
     "output_type": "execute_result"
    }
   ],
   "source": [
    "corpus"
   ]
  },
  {
   "cell_type": "code",
   "execution_count": 16,
   "id": "24e7e0d9",
   "metadata": {},
   "outputs": [
    {
     "data": {
      "text/plain": [
       "['i',\n",
       " 'me',\n",
       " 'my',\n",
       " 'myself',\n",
       " 'we',\n",
       " 'our',\n",
       " 'ours',\n",
       " 'ourselves',\n",
       " 'you',\n",
       " \"you're\",\n",
       " \"you've\",\n",
       " \"you'll\",\n",
       " \"you'd\",\n",
       " 'your',\n",
       " 'yours',\n",
       " 'yourself',\n",
       " 'yourselves',\n",
       " 'he',\n",
       " 'him',\n",
       " 'his',\n",
       " 'himself',\n",
       " 'she',\n",
       " \"she's\",\n",
       " 'her',\n",
       " 'hers',\n",
       " 'herself',\n",
       " 'it',\n",
       " \"it's\",\n",
       " 'its',\n",
       " 'itself',\n",
       " 'they',\n",
       " 'them',\n",
       " 'their',\n",
       " 'theirs',\n",
       " 'themselves',\n",
       " 'what',\n",
       " 'which',\n",
       " 'who',\n",
       " 'whom',\n",
       " 'this',\n",
       " 'that',\n",
       " \"that'll\",\n",
       " 'these',\n",
       " 'those',\n",
       " 'am',\n",
       " 'is',\n",
       " 'are',\n",
       " 'was',\n",
       " 'were',\n",
       " 'be',\n",
       " 'been',\n",
       " 'being',\n",
       " 'have',\n",
       " 'has',\n",
       " 'had',\n",
       " 'having',\n",
       " 'do',\n",
       " 'does',\n",
       " 'did',\n",
       " 'doing',\n",
       " 'a',\n",
       " 'an',\n",
       " 'the',\n",
       " 'and',\n",
       " 'but',\n",
       " 'if',\n",
       " 'or',\n",
       " 'because',\n",
       " 'as',\n",
       " 'until',\n",
       " 'while',\n",
       " 'of',\n",
       " 'at',\n",
       " 'by',\n",
       " 'for',\n",
       " 'with',\n",
       " 'about',\n",
       " 'against',\n",
       " 'between',\n",
       " 'into',\n",
       " 'through',\n",
       " 'during',\n",
       " 'before',\n",
       " 'after',\n",
       " 'above',\n",
       " 'below',\n",
       " 'to',\n",
       " 'from',\n",
       " 'up',\n",
       " 'down',\n",
       " 'in',\n",
       " 'out',\n",
       " 'on',\n",
       " 'off',\n",
       " 'over',\n",
       " 'under',\n",
       " 'again',\n",
       " 'further',\n",
       " 'then',\n",
       " 'once',\n",
       " 'here',\n",
       " 'there',\n",
       " 'when',\n",
       " 'where',\n",
       " 'why',\n",
       " 'how',\n",
       " 'all',\n",
       " 'any',\n",
       " 'both',\n",
       " 'each',\n",
       " 'few',\n",
       " 'more',\n",
       " 'most',\n",
       " 'other',\n",
       " 'some',\n",
       " 'such',\n",
       " 'no',\n",
       " 'nor',\n",
       " 'not',\n",
       " 'only',\n",
       " 'own',\n",
       " 'same',\n",
       " 'so',\n",
       " 'than',\n",
       " 'too',\n",
       " 'very',\n",
       " 's',\n",
       " 't',\n",
       " 'can',\n",
       " 'will',\n",
       " 'just',\n",
       " 'don',\n",
       " \"don't\",\n",
       " 'should',\n",
       " \"should've\",\n",
       " 'now',\n",
       " 'd',\n",
       " 'll',\n",
       " 'm',\n",
       " 'o',\n",
       " 're',\n",
       " 've',\n",
       " 'y',\n",
       " 'ain',\n",
       " 'aren',\n",
       " \"aren't\",\n",
       " 'couldn',\n",
       " \"couldn't\",\n",
       " 'didn',\n",
       " \"didn't\",\n",
       " 'doesn',\n",
       " \"doesn't\",\n",
       " 'hadn',\n",
       " \"hadn't\",\n",
       " 'hasn',\n",
       " \"hasn't\",\n",
       " 'haven',\n",
       " \"haven't\",\n",
       " 'isn',\n",
       " \"isn't\",\n",
       " 'ma',\n",
       " 'mightn',\n",
       " \"mightn't\",\n",
       " 'mustn',\n",
       " \"mustn't\",\n",
       " 'needn',\n",
       " \"needn't\",\n",
       " 'shan',\n",
       " \"shan't\",\n",
       " 'shouldn',\n",
       " \"shouldn't\",\n",
       " 'wasn',\n",
       " \"wasn't\",\n",
       " 'weren',\n",
       " \"weren't\",\n",
       " 'won',\n",
       " \"won't\",\n",
       " 'wouldn',\n",
       " \"wouldn't\"]"
      ]
     },
     "execution_count": 16,
     "metadata": {},
     "output_type": "execute_result"
    }
   ],
   "source": [
    "stopwords.words('english')"
   ]
  },
  {
   "cell_type": "code",
   "execution_count": 19,
   "id": "7696d794",
   "metadata": {},
   "outputs": [
    {
     "name": "stdout",
     "output_type": "stream",
     "text": [
      "narendra\n",
      "damodarda\n",
      "modi\n",
      "gujarati\n",
      "n\n",
      "end\n",
      "mod\n",
      "modi\n",
      "born\n",
      "septemb\n",
      "b\n",
      "indian\n",
      "politician\n",
      "serv\n",
      "th\n",
      "prime\n",
      "minist\n",
      "india\n",
      "sinc\n",
      "may\n",
      "modi\n",
      "chief\n",
      "minist\n",
      "gujarat\n",
      "member\n",
      "parliament\n",
      "mp\n",
      "varanasi\n",
      "he\n",
      "member\n",
      "bharatiya\n",
      "janata\n",
      "parti\n",
      "bjp\n",
      "rashtriya\n",
      "swayamsevak\n",
      "sangh\n",
      "rss\n",
      "right\n",
      "wing\n",
      "hindu\n",
      "nationalist\n",
      "paramilitari\n",
      "volunt\n",
      "organis\n",
      "he\n",
      "longest\n",
      "serv\n",
      "prime\n",
      "minist\n",
      "outsid\n",
      "indian\n",
      "nation\n",
      "congress\n",
      "modi\n",
      "born\n",
      "rais\n",
      "vadnagar\n",
      "northeastern\n",
      "gujarat\n",
      "complet\n",
      "secondari\n",
      "educ\n",
      "he\n",
      "introduc\n",
      "rss\n",
      "age\n",
      "eight\n",
      "hi\n",
      "account\n",
      "help\n",
      "father\n",
      "sell\n",
      "tea\n",
      "vadnagar\n",
      "railway\n",
      "station\n",
      "reliabl\n",
      "corrobor\n",
      "at\n",
      "age\n",
      "marri\n",
      "jashodaben\n",
      "modi\n",
      "abandon\n",
      "soon\n",
      "publicli\n",
      "acknowledg\n",
      "four\n",
      "decad\n",
      "later\n",
      "legal\n",
      "requir\n",
      "modi\n",
      "becam\n",
      "full\n",
      "time\n",
      "worker\n",
      "rss\n",
      "gujarat\n",
      "the\n",
      "rss\n",
      "assign\n",
      "bjp\n",
      "held\n",
      "sever\n",
      "posit\n",
      "within\n",
      "parti\n",
      "hierarchi\n",
      "rise\n",
      "rank\n",
      "gener\n",
      "secretari\n"
     ]
    }
   ],
   "source": [
    "#apply stemming on the sentences: \n",
    "#word tokennize - converts a sentence into words \n",
    "for i in corpus: \n",
    "    words = nltk.word_tokenize(i)\n",
    "    for word in words: \n",
    "        if word not in set(stopwords.words('english')): \n",
    "            print(stemmer.stem(word))"
   ]
  },
  {
   "cell_type": "code",
   "execution_count": 26,
   "id": "e6ec3cad",
   "metadata": {},
   "outputs": [],
   "source": [
    "##apply stopwods, Lemmatize for bag of words \n",
    "\n",
    "import re\n",
    "corpus = []\n",
    "for i in range(len(sentences)):\n",
    "    review = re.sub('[^a-zA-Z]',' ', sentences[i])\n",
    "    review = review.lower()\n",
    "    review = review.split()\n",
    "    review = [lemmatizer.lemmatize(word) for word in review if not word in set(stopwords.words('english'))]\n",
    "    review = ' '.join(review)\n",
    "    corpus.append(review)"
   ]
  },
  {
   "cell_type": "code",
   "execution_count": 27,
   "id": "09264740",
   "metadata": {},
   "outputs": [],
   "source": [
    "#bag of words: \n",
    "from sklearn.feature_extraction.text import CountVectorizer\n",
    "cv = CountVectorizer(binary=True)"
   ]
  },
  {
   "cell_type": "code",
   "execution_count": 28,
   "id": "67ebb207",
   "metadata": {},
   "outputs": [],
   "source": [
    "X = cv.fit_transform(corpus)"
   ]
  },
  {
   "cell_type": "code",
   "execution_count": 29,
   "id": "472a2e56",
   "metadata": {},
   "outputs": [
    {
     "data": {
      "text/plain": [
       "{'narendra': 43,\n",
       " 'damodardas': 13,\n",
       " 'modi': 41,\n",
       " 'gujarati': 23,\n",
       " 'end': 17,\n",
       " 'mod': 40,\n",
       " 'born': 8,\n",
       " 'september': 68,\n",
       " 'indian': 29,\n",
       " 'politician': 52,\n",
       " 'served': 69,\n",
       " 'th': 77,\n",
       " 'prime': 54,\n",
       " 'minister': 39,\n",
       " 'india': 28,\n",
       " 'since': 72,\n",
       " 'may': 37,\n",
       " 'chief': 9,\n",
       " 'gujarat': 22,\n",
       " 'member': 38,\n",
       " 'parliament': 50,\n",
       " 'mp': 42,\n",
       " 'varanasi': 80,\n",
       " 'bharatiya': 6,\n",
       " 'janata': 31,\n",
       " 'party': 51,\n",
       " 'bjp': 7,\n",
       " 'rashtriya': 59,\n",
       " 'swayamsevak': 75,\n",
       " 'sangh': 64,\n",
       " 'right': 62,\n",
       " 'wing': 82,\n",
       " 'hindu': 27,\n",
       " 'nationalist': 45,\n",
       " 'paramilitary': 49,\n",
       " 'volunteer': 81,\n",
       " 'organisation': 47,\n",
       " 'longest': 35,\n",
       " 'serving': 70,\n",
       " 'outside': 48,\n",
       " 'national': 44,\n",
       " 'congress': 11,\n",
       " 'raised': 57,\n",
       " 'vadnagar': 79,\n",
       " 'northeastern': 46,\n",
       " 'completed': 10,\n",
       " 'secondary': 65,\n",
       " 'education': 15,\n",
       " 'introduced': 30,\n",
       " 'age': 3,\n",
       " 'eight': 16,\n",
       " 'account': 1,\n",
       " 'helping': 25,\n",
       " 'father': 18,\n",
       " 'sell': 67,\n",
       " 'tea': 76,\n",
       " 'railway': 56,\n",
       " 'station': 74,\n",
       " 'reliably': 60,\n",
       " 'corroborated': 12,\n",
       " 'married': 36,\n",
       " 'jashodaben': 32,\n",
       " 'abandoned': 0,\n",
       " 'soon': 73,\n",
       " 'publicly': 55,\n",
       " 'acknowledging': 2,\n",
       " 'four': 19,\n",
       " 'decade': 14,\n",
       " 'later': 33,\n",
       " 'legally': 34,\n",
       " 'required': 61,\n",
       " 'became': 5,\n",
       " 'full': 20,\n",
       " 'time': 78,\n",
       " 'worker': 84,\n",
       " 'assigned': 4,\n",
       " 'held': 24,\n",
       " 'several': 71,\n",
       " 'position': 53,\n",
       " 'within': 83,\n",
       " 'hierarchy': 26,\n",
       " 'rising': 63,\n",
       " 'rank': 58,\n",
       " 'general': 21,\n",
       " 'secretary': 66}"
      ]
     },
     "execution_count": 29,
     "metadata": {},
     "output_type": "execute_result"
    }
   ],
   "source": [
    "cv.vocabulary_"
   ]
  },
  {
   "cell_type": "code",
   "execution_count": 30,
   "id": "8d212215",
   "metadata": {},
   "outputs": [
    {
     "data": {
      "text/plain": [
       "'narendra damodardas modi gujarati n end mod modi born september b indian politician served th prime minister india since may'"
      ]
     },
     "execution_count": 30,
     "metadata": {},
     "output_type": "execute_result"
    }
   ],
   "source": [
    "corpus[0]"
   ]
  },
  {
   "cell_type": "code",
   "execution_count": 31,
   "id": "977b67f7",
   "metadata": {},
   "outputs": [],
   "source": [
    "# bag of words - with Ngram parameter: \n",
    "from sklearn.feature_extraction.text import CountVectorizer\n",
    "cv = CountVectorizer(binary=True, ngram_range=(3,3))"
   ]
  },
  {
   "cell_type": "code",
   "execution_count": 32,
   "id": "37bf7d6b",
   "metadata": {},
   "outputs": [],
   "source": [
    "X = cv.fit_transform(corpus)"
   ]
  },
  {
   "cell_type": "code",
   "execution_count": 33,
   "id": "e90fac9f",
   "metadata": {},
   "outputs": [
    {
     "data": {
      "text/plain": [
       "{'narendra damodardas modi': 47,\n",
       " 'damodardas modi gujarati': 13,\n",
       " 'modi gujarati end': 46,\n",
       " 'gujarati end mod': 21,\n",
       " 'end mod modi': 15,\n",
       " 'mod modi born': 40,\n",
       " 'modi born september': 44,\n",
       " 'born september indian': 10,\n",
       " 'september indian politician': 68,\n",
       " 'indian politician served': 28,\n",
       " 'politician served th': 55,\n",
       " 'served th prime': 69,\n",
       " 'th prime minister': 76,\n",
       " 'prime minister india': 57,\n",
       " 'minister india since': 38,\n",
       " 'india since may': 26,\n",
       " 'modi chief minister': 45,\n",
       " 'chief minister gujarat': 11,\n",
       " 'minister gujarat member': 37,\n",
       " 'gujarat member parliament': 20,\n",
       " 'member parliament mp': 36,\n",
       " 'parliament mp varanasi': 52,\n",
       " 'member bharatiya janata': 35,\n",
       " 'bharatiya janata party': 6,\n",
       " 'janata party bjp': 30,\n",
       " 'party bjp rashtriya': 53,\n",
       " 'bjp rashtriya swayamsevak': 8,\n",
       " 'rashtriya swayamsevak sangh': 63,\n",
       " 'swayamsevak sangh right': 74,\n",
       " 'sangh right wing': 66,\n",
       " 'right wing hindu': 64,\n",
       " 'wing hindu nationalist': 80,\n",
       " 'hindu nationalist paramilitary': 25,\n",
       " 'nationalist paramilitary volunteer': 48,\n",
       " 'paramilitary volunteer organisation': 51,\n",
       " 'longest serving prime': 33,\n",
       " 'serving prime minister': 70,\n",
       " 'prime minister outside': 58,\n",
       " 'minister outside indian': 39,\n",
       " 'outside indian national': 50,\n",
       " 'indian national congress': 27,\n",
       " 'modi born raised': 43,\n",
       " 'born raised vadnagar': 9,\n",
       " 'raised vadnagar northeastern': 61,\n",
       " 'vadnagar northeastern gujarat': 78,\n",
       " 'northeastern gujarat completed': 49,\n",
       " 'gujarat completed secondary': 19,\n",
       " 'completed secondary education': 12,\n",
       " 'introduced age eight': 29,\n",
       " 'account helping father': 1,\n",
       " 'helping father sell': 23,\n",
       " 'father sell tea': 16,\n",
       " 'sell tea vadnagar': 67,\n",
       " 'tea vadnagar railway': 75,\n",
       " 'vadnagar railway station': 79,\n",
       " 'railway station reliably': 60,\n",
       " 'station reliably corroborated': 73,\n",
       " 'age married jashodaben': 3,\n",
       " 'married jashodaben modi': 34,\n",
       " 'jashodaben modi abandoned': 31,\n",
       " 'modi abandoned soon': 41,\n",
       " 'abandoned soon publicly': 0,\n",
       " 'soon publicly acknowledging': 72,\n",
       " 'publicly acknowledging four': 59,\n",
       " 'acknowledging four decade': 2,\n",
       " 'four decade later': 17,\n",
       " 'decade later legally': 14,\n",
       " 'later legally required': 32,\n",
       " 'modi became full': 42,\n",
       " 'became full time': 5,\n",
       " 'full time worker': 18,\n",
       " 'time worker gujarat': 77,\n",
       " 'assigned bjp held': 4,\n",
       " 'bjp held several': 7,\n",
       " 'held several position': 22,\n",
       " 'several position within': 71,\n",
       " 'position within party': 56,\n",
       " 'within party hierarchy': 81,\n",
       " 'party hierarchy rising': 54,\n",
       " 'hierarchy rising rank': 24,\n",
       " 'rising rank general': 65,\n",
       " 'rank general secretary': 62}"
      ]
     },
     "execution_count": 33,
     "metadata": {},
     "output_type": "execute_result"
    }
   ],
   "source": [
    "cv.vocabulary_"
   ]
  },
  {
   "cell_type": "code",
   "execution_count": 34,
   "id": "17246b06",
   "metadata": {},
   "outputs": [
    {
     "data": {
      "text/plain": [
       "{'narendra damodardas': 97,\n",
       " 'damodardas modi': 27,\n",
       " 'modi gujarati': 94,\n",
       " 'gujarati end': 44,\n",
       " 'end mod': 31,\n",
       " 'mod modi': 83,\n",
       " 'modi born': 89,\n",
       " 'born september': 21,\n",
       " 'september indian': 141,\n",
       " 'indian politician': 58,\n",
       " 'politician served': 114,\n",
       " 'served th': 143,\n",
       " 'th prime': 158,\n",
       " 'prime minister': 118,\n",
       " 'minister india': 79,\n",
       " 'india since': 54,\n",
       " 'since may': 149,\n",
       " 'narendra damodardas modi': 98,\n",
       " 'damodardas modi gujarati': 28,\n",
       " 'modi gujarati end': 95,\n",
       " 'gujarati end mod': 45,\n",
       " 'end mod modi': 32,\n",
       " 'mod modi born': 84,\n",
       " 'modi born september': 91,\n",
       " 'born september indian': 22,\n",
       " 'september indian politician': 142,\n",
       " 'indian politician served': 59,\n",
       " 'politician served th': 115,\n",
       " 'served th prime': 144,\n",
       " 'th prime minister': 159,\n",
       " 'prime minister india': 119,\n",
       " 'minister india since': 80,\n",
       " 'india since may': 55,\n",
       " 'modi chief': 92,\n",
       " 'chief minister': 23,\n",
       " 'minister gujarat': 77,\n",
       " 'gujarat member': 42,\n",
       " 'member parliament': 75,\n",
       " 'parliament mp': 108,\n",
       " 'mp varanasi': 96,\n",
       " 'modi chief minister': 93,\n",
       " 'chief minister gujarat': 24,\n",
       " 'minister gujarat member': 78,\n",
       " 'gujarat member parliament': 43,\n",
       " 'member parliament mp': 76,\n",
       " 'parliament mp varanasi': 109,\n",
       " 'member bharatiya': 73,\n",
       " 'bharatiya janata': 13,\n",
       " 'janata party': 62,\n",
       " 'party bjp': 110,\n",
       " 'bjp rashtriya': 17,\n",
       " 'rashtriya swayamsevak': 129,\n",
       " 'swayamsevak sangh': 154,\n",
       " 'sangh right': 136,\n",
       " 'right wing': 132,\n",
       " 'wing hindu': 167,\n",
       " 'hindu nationalist': 52,\n",
       " 'nationalist paramilitary': 100,\n",
       " 'paramilitary volunteer': 106,\n",
       " 'volunteer organisation': 166,\n",
       " 'member bharatiya janata': 74,\n",
       " 'bharatiya janata party': 14,\n",
       " 'janata party bjp': 63,\n",
       " 'party bjp rashtriya': 111,\n",
       " 'bjp rashtriya swayamsevak': 18,\n",
       " 'rashtriya swayamsevak sangh': 130,\n",
       " 'swayamsevak sangh right': 155,\n",
       " 'sangh right wing': 137,\n",
       " 'right wing hindu': 133,\n",
       " 'wing hindu nationalist': 168,\n",
       " 'hindu nationalist paramilitary': 53,\n",
       " 'nationalist paramilitary volunteer': 101,\n",
       " 'paramilitary volunteer organisation': 107,\n",
       " 'longest serving': 69,\n",
       " 'serving prime': 145,\n",
       " 'minister outside': 81,\n",
       " 'outside indian': 104,\n",
       " 'indian national': 56,\n",
       " 'national congress': 99,\n",
       " 'longest serving prime': 70,\n",
       " 'serving prime minister': 146,\n",
       " 'prime minister outside': 120,\n",
       " 'minister outside indian': 82,\n",
       " 'outside indian national': 105,\n",
       " 'indian national congress': 57,\n",
       " 'born raised': 19,\n",
       " 'raised vadnagar': 125,\n",
       " 'vadnagar northeastern': 162,\n",
       " 'northeastern gujarat': 102,\n",
       " 'gujarat completed': 40,\n",
       " 'completed secondary': 25,\n",
       " 'secondary education': 138,\n",
       " 'modi born raised': 90,\n",
       " 'born raised vadnagar': 20,\n",
       " 'raised vadnagar northeastern': 126,\n",
       " 'vadnagar northeastern gujarat': 163,\n",
       " 'northeastern gujarat completed': 103,\n",
       " 'gujarat completed secondary': 41,\n",
       " 'completed secondary education': 26,\n",
       " 'introduced age': 60,\n",
       " 'age eight': 6,\n",
       " 'introduced age eight': 61,\n",
       " 'account helping': 2,\n",
       " 'helping father': 48,\n",
       " 'father sell': 33,\n",
       " 'sell tea': 139,\n",
       " 'tea vadnagar': 156,\n",
       " 'vadnagar railway': 164,\n",
       " 'railway station': 123,\n",
       " 'station reliably': 152,\n",
       " 'reliably corroborated': 131,\n",
       " 'account helping father': 3,\n",
       " 'helping father sell': 49,\n",
       " 'father sell tea': 34,\n",
       " 'sell tea vadnagar': 140,\n",
       " 'tea vadnagar railway': 157,\n",
       " 'vadnagar railway station': 165,\n",
       " 'railway station reliably': 124,\n",
       " 'station reliably corroborated': 153,\n",
       " 'age married': 7,\n",
       " 'married jashodaben': 71,\n",
       " 'jashodaben modi': 64,\n",
       " 'modi abandoned': 85,\n",
       " 'abandoned soon': 0,\n",
       " 'soon publicly': 150,\n",
       " 'publicly acknowledging': 121,\n",
       " 'acknowledging four': 4,\n",
       " 'four decade': 35,\n",
       " 'decade later': 29,\n",
       " 'later legally': 66,\n",
       " 'legally required': 68,\n",
       " 'age married jashodaben': 8,\n",
       " 'married jashodaben modi': 72,\n",
       " 'jashodaben modi abandoned': 65,\n",
       " 'modi abandoned soon': 86,\n",
       " 'abandoned soon publicly': 1,\n",
       " 'soon publicly acknowledging': 151,\n",
       " 'publicly acknowledging four': 122,\n",
       " 'acknowledging four decade': 5,\n",
       " 'four decade later': 36,\n",
       " 'decade later legally': 30,\n",
       " 'later legally required': 67,\n",
       " 'modi became': 87,\n",
       " 'became full': 11,\n",
       " 'full time': 37,\n",
       " 'time worker': 160,\n",
       " 'worker gujarat': 171,\n",
       " 'modi became full': 88,\n",
       " 'became full time': 12,\n",
       " 'full time worker': 38,\n",
       " 'time worker gujarat': 161,\n",
       " 'assigned bjp': 9,\n",
       " 'bjp held': 15,\n",
       " 'held several': 46,\n",
       " 'several position': 147,\n",
       " 'position within': 116,\n",
       " 'within party': 169,\n",
       " 'party hierarchy': 112,\n",
       " 'hierarchy rising': 50,\n",
       " 'rising rank': 134,\n",
       " 'rank general': 127,\n",
       " 'general secretary': 39,\n",
       " 'assigned bjp held': 10,\n",
       " 'bjp held several': 16,\n",
       " 'held several position': 47,\n",
       " 'several position within': 148,\n",
       " 'position within party': 117,\n",
       " 'within party hierarchy': 170,\n",
       " 'party hierarchy rising': 113,\n",
       " 'hierarchy rising rank': 51,\n",
       " 'rising rank general': 135,\n",
       " 'rank general secretary': 128}"
      ]
     },
     "execution_count": 34,
     "metadata": {},
     "output_type": "execute_result"
    }
   ],
   "source": [
    "# bag of words - with Ngram parameter: \n",
    "from sklearn.feature_extraction.text import CountVectorizer\n",
    "cv = CountVectorizer(binary=True, ngram_range=(2,3))\n",
    "X = cv.fit_transform(corpus)\n",
    "cv.vocabulary_"
   ]
  },
  {
   "cell_type": "code",
   "execution_count": 35,
   "id": "71941af4",
   "metadata": {},
   "outputs": [
    {
     "data": {
      "text/plain": [
       "array([[0, 0, 0, 0, 0, 0, 0, 0, 0, 0, 0, 0, 0, 0, 0, 0, 0, 0, 0, 0, 0, 1,\n",
       "        1, 0, 0, 0, 0, 1, 1, 0, 0, 1, 1, 0, 0, 0, 0, 0, 0, 0, 0, 0, 0, 0,\n",
       "        1, 1, 0, 0, 0, 0, 0, 0, 0, 0, 1, 1, 0, 0, 1, 1, 0, 0, 0, 0, 0, 0,\n",
       "        0, 0, 0, 0, 0, 0, 0, 0, 0, 0, 0, 0, 0, 1, 1, 0, 0, 1, 1, 0, 0, 0,\n",
       "        0, 1, 0, 1, 0, 0, 1, 1, 0, 1, 1, 0, 0, 0, 0, 0, 0, 0, 0, 0, 0, 0,\n",
       "        0, 0, 0, 0, 1, 1, 0, 0, 1, 1, 0, 0, 0, 0, 0, 0, 0, 0, 0, 0, 0, 0,\n",
       "        0, 0, 0, 0, 0, 0, 0, 0, 0, 1, 1, 1, 1, 0, 0, 0, 0, 1, 0, 0, 0, 0,\n",
       "        0, 0, 0, 0, 1, 1, 0, 0, 0, 0, 0, 0, 0, 0, 0, 0, 0, 0]])"
      ]
     },
     "execution_count": 35,
     "metadata": {},
     "output_type": "execute_result"
    }
   ],
   "source": [
    "X[0].toarray()"
   ]
  },
  {
   "cell_type": "code",
   "execution_count": 37,
   "id": "4c4186a5",
   "metadata": {},
   "outputs": [],
   "source": [
    "#TF_IDF \n",
    "from sklearn.feature_extraction.text import TfidfVectorizer\n",
    "cv = TfidfVectorizer()\n",
    "X=cv.fit_transform(corpus)"
   ]
  },
  {
   "cell_type": "code",
   "execution_count": 38,
   "id": "98e8bba3",
   "metadata": {},
   "outputs": [
    {
     "data": {
      "text/plain": [
       "'narendra damodardas modi gujarati n end mod modi born september b indian politician served th prime minister india since may'"
      ]
     },
     "execution_count": 38,
     "metadata": {},
     "output_type": "execute_result"
    }
   ],
   "source": [
    "corpus[0]"
   ]
  },
  {
   "cell_type": "code",
   "execution_count": 40,
   "id": "b70b5ed1",
   "metadata": {},
   "outputs": [
    {
     "data": {
      "text/plain": [
       "array([[0.        , 0.        , 0.        , 0.        , 0.        ,\n",
       "        0.        , 0.        , 0.        , 0.21165425, 0.        ,\n",
       "        0.        , 0.        , 0.        , 0.24897823, 0.        ,\n",
       "        0.        , 0.        , 0.24897823, 0.        , 0.        ,\n",
       "        0.        , 0.        , 0.        , 0.24897823, 0.        ,\n",
       "        0.        , 0.        , 0.        , 0.24897823, 0.21165425,\n",
       "        0.        , 0.        , 0.        , 0.        , 0.        ,\n",
       "        0.        , 0.        , 0.24897823, 0.        , 0.18517245,\n",
       "        0.24897823, 0.29569693, 0.        , 0.24897823, 0.        ,\n",
       "        0.        , 0.        , 0.        , 0.        , 0.        ,\n",
       "        0.        , 0.        , 0.24897823, 0.        , 0.21165425,\n",
       "        0.        , 0.        , 0.        , 0.        , 0.        ,\n",
       "        0.        , 0.        , 0.        , 0.        , 0.        ,\n",
       "        0.        , 0.        , 0.        , 0.24897823, 0.24897823,\n",
       "        0.        , 0.        , 0.24897823, 0.        , 0.        ,\n",
       "        0.        , 0.        , 0.24897823, 0.        , 0.        ,\n",
       "        0.        , 0.        , 0.        , 0.        , 0.        ]])"
      ]
     },
     "execution_count": 40,
     "metadata": {},
     "output_type": "execute_result"
    }
   ],
   "source": [
    "X[0].toarray()"
   ]
  },
  {
   "cell_type": "code",
   "execution_count": 41,
   "id": "365a7b73",
   "metadata": {},
   "outputs": [],
   "source": [
    "#TF_IDF using ngram\n",
    "from sklearn.feature_extraction.text import TfidfVectorizer\n",
    "cv = TfidfVectorizer(ngram_range=(3,3))\n",
    "X=cv.fit_transform(corpus)"
   ]
  },
  {
   "cell_type": "code",
   "execution_count": 42,
   "id": "67cc46c1",
   "metadata": {},
   "outputs": [
    {
     "data": {
      "text/plain": [
       "'narendra damodardas modi gujarati n end mod modi born september b indian politician served th prime minister india since may'"
      ]
     },
     "execution_count": 42,
     "metadata": {},
     "output_type": "execute_result"
    }
   ],
   "source": [
    "corpus[0]"
   ]
  },
  {
   "cell_type": "code",
   "execution_count": 44,
   "id": "986987ce",
   "metadata": {},
   "outputs": [
    {
     "data": {
      "text/plain": [
       "array([[0.  , 0.  , 0.  , 0.  , 0.  , 0.  , 0.  , 0.  , 0.  , 0.  , 0.25,\n",
       "        0.  , 0.  , 0.25, 0.  , 0.25, 0.  , 0.  , 0.  , 0.  , 0.  , 0.25,\n",
       "        0.  , 0.  , 0.  , 0.  , 0.25, 0.  , 0.25, 0.  , 0.  , 0.  , 0.  ,\n",
       "        0.  , 0.  , 0.  , 0.  , 0.  , 0.25, 0.  , 0.25, 0.  , 0.  , 0.  ,\n",
       "        0.25, 0.  , 0.25, 0.25, 0.  , 0.  , 0.  , 0.  , 0.  , 0.  , 0.  ,\n",
       "        0.25, 0.  , 0.25, 0.  , 0.  , 0.  , 0.  , 0.  , 0.  , 0.  , 0.  ,\n",
       "        0.  , 0.  , 0.25, 0.25, 0.  , 0.  , 0.  , 0.  , 0.  , 0.  , 0.25,\n",
       "        0.  , 0.  , 0.  , 0.  , 0.  ]])"
      ]
     },
     "execution_count": 44,
     "metadata": {},
     "output_type": "execute_result"
    }
   ],
   "source": [
    "X[0].toarray()"
   ]
  },
  {
   "cell_type": "code",
   "execution_count": 47,
   "id": "fa943780",
   "metadata": {},
   "outputs": [
    {
     "name": "stdout",
     "output_type": "stream",
     "text": [
      "narendra damodardas modi gujarati n end mod modi born september b indian politician served th prime minister india since may\n"
     ]
    },
    {
     "data": {
      "text/plain": [
       "array([[0.        , 0.        , 0.        , 0.        , 0.        ,\n",
       "        0.        , 0.        , 0.        , 0.        , 0.        ,\n",
       "        0.        , 0.        , 0.        , 0.        , 0.        ,\n",
       "        0.        , 0.        , 0.        , 0.        , 0.        ,\n",
       "        0.        , 0.17555938, 0.17555938, 0.        , 0.        ,\n",
       "        0.        , 0.        , 0.17555938, 0.17555938, 0.        ,\n",
       "        0.        , 0.17555938, 0.17555938, 0.        , 0.        ,\n",
       "        0.        , 0.        , 0.        , 0.        , 0.        ,\n",
       "        0.        , 0.        , 0.        , 0.        , 0.17555938,\n",
       "        0.17555938, 0.        , 0.        , 0.        , 0.        ,\n",
       "        0.        , 0.        , 0.        , 0.        , 0.17555938,\n",
       "        0.17555938, 0.        , 0.        , 0.17555938, 0.17555938,\n",
       "        0.        , 0.        , 0.        , 0.        , 0.        ,\n",
       "        0.        , 0.        , 0.        , 0.        , 0.        ,\n",
       "        0.        , 0.        , 0.        , 0.        , 0.        ,\n",
       "        0.        , 0.        , 0.        , 0.        , 0.17555938,\n",
       "        0.17555938, 0.        , 0.        , 0.17555938, 0.17555938,\n",
       "        0.        , 0.        , 0.        , 0.        , 0.14924151,\n",
       "        0.        , 0.17555938, 0.        , 0.        , 0.17555938,\n",
       "        0.17555938, 0.        , 0.17555938, 0.17555938, 0.        ,\n",
       "        0.        , 0.        , 0.        , 0.        , 0.        ,\n",
       "        0.        , 0.        , 0.        , 0.        , 0.        ,\n",
       "        0.        , 0.        , 0.        , 0.        , 0.17555938,\n",
       "        0.17555938, 0.        , 0.        , 0.14924151, 0.17555938,\n",
       "        0.        , 0.        , 0.        , 0.        , 0.        ,\n",
       "        0.        , 0.        , 0.        , 0.        , 0.        ,\n",
       "        0.        , 0.        , 0.        , 0.        , 0.        ,\n",
       "        0.        , 0.        , 0.        , 0.        , 0.        ,\n",
       "        0.        , 0.17555938, 0.17555938, 0.17555938, 0.17555938,\n",
       "        0.        , 0.        , 0.        , 0.        , 0.17555938,\n",
       "        0.        , 0.        , 0.        , 0.        , 0.        ,\n",
       "        0.        , 0.        , 0.        , 0.17555938, 0.17555938,\n",
       "        0.        , 0.        , 0.        , 0.        , 0.        ,\n",
       "        0.        , 0.        , 0.        , 0.        , 0.        ,\n",
       "        0.        , 0.        ]])"
      ]
     },
     "execution_count": 47,
     "metadata": {},
     "output_type": "execute_result"
    }
   ],
   "source": [
    "#TF_IDF using ngram\n",
    "from sklearn.feature_extraction.text import TfidfVectorizer\n",
    "cv = TfidfVectorizer(ngram_range=(2,3))\n",
    "X=cv.fit_transform(corpus)\n",
    "print(corpus[0])\n",
    "X[0].toarray()"
   ]
  },
  {
   "cell_type": "code",
   "execution_count": 48,
   "id": "6e8aeb67",
   "metadata": {},
   "outputs": [
    {
     "name": "stdout",
     "output_type": "stream",
     "text": [
      "narendra damodardas modi gujarati n end mod modi born september b indian politician served th prime minister india since may\n"
     ]
    },
    {
     "data": {
      "text/plain": [
       "array([[0.70710678, 0.        , 0.70710678]])"
      ]
     },
     "execution_count": 48,
     "metadata": {},
     "output_type": "execute_result"
    }
   ],
   "source": [
    "#TF_IDF using ngram and maxfeatures: top 3 max features \n",
    "from sklearn.feature_extraction.text import TfidfVectorizer\n",
    "cv = TfidfVectorizer(ngram_range=(2,3), max_features=3)\n",
    "X=cv.fit_transform(corpus)\n",
    "print(corpus[0])\n",
    "X[0].toarray()"
   ]
  },
  {
   "cell_type": "code",
   "execution_count": 49,
   "id": "87e9994d",
   "metadata": {},
   "outputs": [
    {
     "name": "stdout",
     "output_type": "stream",
     "text": [
      "narendra damodardas modi gujarati n end mod modi born september b indian politician served th prime minister india since may\n"
     ]
    },
    {
     "data": {
      "text/plain": [
       "array([[0.45798516, 0.        , 0.        , 0.        , 0.        ,\n",
       "        0.53874817, 0.53874817, 0.        , 0.        , 0.45798516]])"
      ]
     },
     "execution_count": 49,
     "metadata": {},
     "output_type": "execute_result"
    }
   ],
   "source": [
    "#TF_IDF using ngram and maxfeatures: top 10 max features \n",
    "from sklearn.feature_extraction.text import TfidfVectorizer\n",
    "cv = TfidfVectorizer(ngram_range=(2,3), max_features=10)\n",
    "X=cv.fit_transform(corpus)\n",
    "print(corpus[0])\n",
    "X[0].toarray()"
   ]
  },
  {
   "cell_type": "code",
   "execution_count": null,
   "id": "bdd3f49d",
   "metadata": {},
   "outputs": [],
   "source": []
  }
 ],
 "metadata": {
  "kernelspec": {
   "display_name": "Python 3 (ipykernel)",
   "language": "python",
   "name": "python3"
  },
  "language_info": {
   "codemirror_mode": {
    "name": "ipython",
    "version": 3
   },
   "file_extension": ".py",
   "mimetype": "text/x-python",
   "name": "python",
   "nbconvert_exporter": "python",
   "pygments_lexer": "ipython3",
   "version": "3.9.12"
  }
 },
 "nbformat": 4,
 "nbformat_minor": 5
}
